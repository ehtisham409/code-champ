{
  "nbformat": 4,
  "nbformat_minor": 0,
  "metadata": {
    "colab": {
      "provenance": [],
      "authorship_tag": "ABX9TyPRiZ/cqlImzzb9nbrAKN9D",
      "include_colab_link": true
    },
    "kernelspec": {
      "name": "python3",
      "display_name": "Python 3"
    }
  },
  "cells": [
    {
      "cell_type": "markdown",
      "metadata": {
        "id": "view-in-github",
        "colab_type": "text"
      },
      "source": [
        "<a href=\"https://colab.research.google.com/github/ehtisham409/code-champ/blob/master/Simple_PDE_using_DGM.ipynb\" target=\"_parent\"><img src=\"https://colab.research.google.com/assets/colab-badge.svg\" alt=\"Open In Colab\"/></a>"
      ]
    },
    {
      "cell_type": "code",
      "metadata": {
        "id": "u6OhTddrCEWc"
      },
      "source": [
        "     %tensorflow_version 1.x"
      ],
      "execution_count": null,
      "outputs": []
    },
    {
      "cell_type": "code",
      "metadata": {
        "id": "0WuNWq6__8gp"
      },
      "source": [
        "# CLASS DEFINITIONS FOR NEURAL NETWORKS USED IN DEEP GALERKIN METHOD\n",
        "\n",
        "#%% import needed packages\n",
        "import tensorflow as tf\n",
        "\n",
        "#%% LSTM-like layer used in DGM (see Figure 5.3 and set of equations on p. 45) - modification of Keras layer class\n",
        "\n",
        "class LSTMLayer(tf.keras.layers.Layer):\n",
        "\n",
        "    # constructor/initializer function (automatically called when new instance of class is created)\n",
        "    def __init__(self, output_dim, input_dim, trans1 = \"tanh\", trans2 = \"tanh\"):\n",
        "        '''\n",
        "        Args:\n",
        "            input_dim (int):       dimensionality of input data\n",
        "            output_dim (int):      number of outputs for LSTM layers\n",
        "            trans1, trans2 (str):  activation functions used inside the layer;\n",
        "                                   one of: \"tanh\" (default), \"relu\" or \"sigmoid\"\n",
        "\n",
        "        Returns: customized Keras layer object used as intermediate layers in DGM\n",
        "        '''\n",
        "\n",
        "        # create an instance of a Layer object (call initialize function of superclass of LSTMLayer)\n",
        "        super(LSTMLayer, self).__init__()\n",
        "\n",
        "        # add properties for layer including activation functions used inside the layer\n",
        "        self.output_dim = output_dim\n",
        "        self.input_dim = input_dim\n",
        "\n",
        "        if trans1 == \"tanh\":\n",
        "            self.trans1 = tf.nn.tanh\n",
        "        elif trans1 == \"relu\":\n",
        "            self.trans1 = tf.nn.relu\n",
        "        elif trans1 == \"sigmoid\":\n",
        "            self.trans1 = tf.nn.sigmoid\n",
        "\n",
        "        if trans2 == \"tanh\":\n",
        "            self.trans2 = tf.nn.tanh\n",
        "        elif trans2 == \"relu\":\n",
        "            self.trans2 = tf.nn.relu\n",
        "        elif trans2 == \"sigmoid\":\n",
        "            self.trans2 = tf.nn.relu\n",
        "\n",
        "        ### define LSTM layer parameters (use Xavier initialization)\n",
        "        # u vectors (weighting vectors for inputs original inputs x)\n",
        "        self.Uz = self.add_variable(\"Uz\", shape=[self.input_dim, self.output_dim],\n",
        "                                    initializer = tf.contrib.layers.xavier_initializer())\n",
        "        self.Ug = self.add_variable(\"Ug\", shape=[self.input_dim ,self.output_dim],\n",
        "                                    initializer = tf.contrib.layers.xavier_initializer())\n",
        "        self.Ur = self.add_variable(\"Ur\", shape=[self.input_dim, self.output_dim],\n",
        "                                    initializer = tf.contrib.layers.xavier_initializer())\n",
        "        self.Uh = self.add_variable(\"Uh\", shape=[self.input_dim, self.output_dim],\n",
        "                                    initializer = tf.contrib.layers.xavier_initializer())\n",
        "\n",
        "        # w vectors (weighting vectors for output of previous layer)\n",
        "        self.Wz = self.add_variable(\"Wz\", shape=[self.output_dim, self.output_dim],\n",
        "                                    initializer = tf.contrib.layers.xavier_initializer())\n",
        "        self.Wg = self.add_variable(\"Wg\", shape=[self.output_dim, self.output_dim],\n",
        "                                    initializer = tf.contrib.layers.xavier_initializer())\n",
        "        self.Wr = self.add_variable(\"Wr\", shape=[self.output_dim, self.output_dim],\n",
        "                                    initializer = tf.contrib.layers.xavier_initializer())\n",
        "        self.Wh = self.add_variable(\"Wh\", shape=[self.output_dim, self.output_dim],\n",
        "                                    initializer = tf.contrib.layers.xavier_initializer())\n",
        "\n",
        "        # bias vectors\n",
        "        self.bz = self.add_variable(\"bz\", shape=[1, self.output_dim])\n",
        "        self.bg = self.add_variable(\"bg\", shape=[1, self.output_dim])\n",
        "        self.br = self.add_variable(\"br\", shape=[1, self.output_dim])\n",
        "        self.bh = self.add_variable(\"bh\", shape=[1, self.output_dim])\n",
        "\n",
        "\n",
        "    # main function to be called\n",
        "    def call(self, S, X):\n",
        "        '''Compute output of a LSTMLayer for a given inputs S,X .\n",
        "        Args:\n",
        "            S: output of previous layer\n",
        "            X: data input\n",
        "\n",
        "        Returns: customized Keras layer object used as intermediate layers in DGM\n",
        "        '''\n",
        "\n",
        "        # compute components of LSTM layer output (note H uses a separate activation function)\n",
        "        Z = self.trans1(tf.add(tf.add(tf.matmul(X,self.Uz), tf.matmul(S,self.Wz)), self.bz))\n",
        "        G = self.trans1(tf.add(tf.add(tf.matmul(X,self.Ug), tf.matmul(S, self.Wg)), self.bg))\n",
        "        R = self.trans1(tf.add(tf.add(tf.matmul(X,self.Ur), tf.matmul(S, self.Wr)), self.br))\n",
        "\n",
        "        H = self.trans2(tf.add(tf.add(tf.matmul(X,self.Uh), tf.matmul(tf.multiply(S, R), self.Wh)), self.bh))\n",
        "\n",
        "        # compute LSTM layer output\n",
        "        S_new = tf.add(tf.multiply(tf.subtract(tf.ones_like(G), G), H), tf.multiply(Z,S))\n",
        "\n",
        "        return S_new\n",
        "\n",
        "#%% Fully connected (dense) layer - modification of Keras layer class\n",
        "\n",
        "class DenseLayer(tf.keras.layers.Layer):\n",
        "\n",
        "    # constructor/initializer function (automatically called when new instance of class is created)\n",
        "    def __init__(self, output_dim, input_dim, transformation=None):\n",
        "        '''\n",
        "        Args:\n",
        "            input_dim:       dimensionality of input data\n",
        "            output_dim:      number of outputs for dense layer\n",
        "            transformation:  activation function used inside the layer; using\n",
        "                             None is equivalent to the identity map\n",
        "\n",
        "        Returns: customized Keras (fully connected) layer object\n",
        "        '''\n",
        "\n",
        "        # create an instance of a Layer object (call initialize function of superclass of DenseLayer)\n",
        "        super(DenseLayer,self).__init__()\n",
        "        self.output_dim = output_dim\n",
        "        self.input_dim = input_dim\n",
        "\n",
        "        ### define dense layer parameters (use Xavier initialization)\n",
        "        # w vectors (weighting vectors for output of previous layer)\n",
        "        self.W = self.add_variable(\"W\", shape=[self.input_dim, self.output_dim],\n",
        "                                   initializer = tf.contrib.layers.xavier_initializer())\n",
        "\n",
        "        # bias vectors\n",
        "        self.b = self.add_variable(\"b\", shape=[1, self.output_dim])\n",
        "\n",
        "        if transformation:\n",
        "            if transformation == \"tanh\":\n",
        "                self.transformation = tf.tanh\n",
        "            elif transformation == \"relu\":\n",
        "                self.transformation = tf.nn.relu\n",
        "        else:\n",
        "            self.transformation = transformation\n",
        "\n",
        "\n",
        "    # main function to be called\n",
        "    def call(self,X):\n",
        "        '''Compute output of a dense layer for a given input X\n",
        "        Args:\n",
        "            X: input to layer\n",
        "        '''\n",
        "\n",
        "        # compute dense layer output\n",
        "        S = tf.add(tf.matmul(X, self.W), self.b)\n",
        "\n",
        "        if self.transformation:\n",
        "            S = self.transformation(S)\n",
        "\n",
        "        return S\n",
        "\n",
        "#%% Neural network architecture used in DGM - modification of Keras Model class\n",
        "\n",
        "class DGMNet(tf.keras.Model):\n",
        "\n",
        "    # constructor/initializer function (automatically called when new instance of class is created)\n",
        "    def __init__(self, layer_width, n_layers, input_dim, final_trans=None):\n",
        "\n",
        "        # create an instance of a Model object (call initialize function of superclass of DGMNet)\n",
        "        super(DGMNet,self).__init__()\n",
        "\n",
        "        # define initial layer as fully connected\n",
        "        # NOTE: to account for time inputs we use input_dim+1 as the input dimensionality\n",
        "        self.initial_layer = DenseLayer(layer_width, input_dim, transformation = \"tanh\")\n",
        "\n",
        "        # define intermediate LSTM layers\n",
        "        self.n_layers = n_layers\n",
        "        self.LSTMLayerList = []\n",
        "\n",
        "        for _ in range(self.n_layers):\n",
        "            self.LSTMLayerList.append(LSTMLayer(layer_width, input_dim))\n",
        "\n",
        "        # define final layer as fully connected with a single output (function value)\n",
        "        self.final_layer = DenseLayer(1, layer_width, transformation = final_trans)\n",
        "\n",
        "\n",
        "    # main function to be called\n",
        "    def call(self,x):\n",
        "        '''\n",
        "        Args:\n",
        "            t: sampled time inputs\n",
        "            x: sampled space inputs\n",
        "        Run the DGM model and obtain fitted function value at the inputs (t,x)\n",
        "        '''\n",
        "\n",
        "        # define input vector as time-space pairs\n",
        "        X = tf.concat([x],1)\n",
        "\n",
        "        # call initial layer\n",
        "        S = self.initial_layer.call(X)\n",
        "\n",
        "        # call intermediate LSTM layers\n",
        "        for i in range(self.n_layers):\n",
        "            S = self.LSTMLayerList[i].call(S,X)\n",
        "\n",
        "        # call final LSTM layers\n",
        "        result = self.final_layer.call(S)\n",
        "\n",
        "        return result"
      ],
      "execution_count": null,
      "outputs": []
    },
    {
      "cell_type": "code",
      "metadata": {
        "id": "UV2nJv1R_l1b"
      },
      "source": [
        "# SCRIPT FOR SOLVING THE FOKKER-PLANCK EQUATION FOR ORNSTEIN-UHLENBECK PROCESS\n",
        "# WITH RANDOM (NORMALLY DISTRIBUTED) STARTING VALUE (see p.54)\n",
        "\n",
        "#%% import needed packages\n",
        "\n",
        "\n",
        "import tensorflow as tf\n",
        "import numpy as np\n",
        "import scipy as sp\n",
        "import matplotlib.pyplot as plt\n",
        "\n",
        "#%% Parameters\n",
        "\n",
        "\n",
        "# bounds of sampling region for space dimension, i.e. sampling will be done on\n",
        "# [multiplier*Xlow, multiplier*Xhigh]\n",
        "Xlow = 0.0\n",
        "Xhigh = 2.0\n",
        "x_multiplier = 2.0\n",
        "alpha = 1.5\n",
        "\n",
        "# neural network parameters\n",
        "num_layers = 3\n",
        "nodes_per_layer = 50\n",
        "learning_rate = 0.001\n",
        "\n",
        "# Training parameters\n",
        "sampling_stages = 100   #(number of EPOCHS) number of times to resample new time-space domain points\n",
        "steps_per_sample = 10   # number of SGD steps to take before re-sampling\n",
        "\n",
        "# Sampling parameters\n",
        "\n",
        "nSim_x_interior = 50\n",
        "nSim_x_initial = 50\n",
        "\n",
        "\n",
        "#%% Sampling function - randomly sample time-space pairs\n",
        "\n"
      ],
      "execution_count": null,
      "outputs": []
    },
    {
      "cell_type": "code",
      "metadata": {
        "id": "euSFnN84DrJ4"
      },
      "source": [
        "def sampler( nSim_x_interior, nSim_x_initial):\n",
        "\n",
        "    # Sampler #1: domain interior\n",
        "    x_interior = np.random.uniform(low=Xlow, high=Xhigh, size=[nSim_x_interior, 1])\n",
        "\n",
        "    # Sampler #2: spatial boundary\n",
        "        # no spatial boundary condition for this problem\n",
        "\n",
        "    # Sampler #3: initial/terminal condition\n",
        "    x_initial = np.random.uniform(low=Xlow, high=Xhigh, size = [nSim_x_initial, 1])\n",
        "\n",
        "    return x_interior, x_initial\n",
        "\n",
        "#%% Loss function for Fokker-Planck equation\n",
        "\n"
      ],
      "execution_count": null,
      "outputs": []
    },
    {
      "cell_type": "code",
      "metadata": {
        "id": "pUmmQWp0Dx3T"
      },
      "source": [
        "def loss(model, x_interior, x_initial):\n",
        "\n",
        "\n",
        "\n",
        "        # compute function value and derivatives at current sampled points\n",
        "        u    = model(x_interior)\n",
        "        u_x  = tf.gradients(u, x_interior)[0]\n",
        "\n",
        "        diff_f = u_x + 1/5*u - tf.exp(-x_interior/5)*tf.cos(x_interior)\n",
        "    # average losses across sample time points\n",
        "        L1 = tf.reduce_mean(tf.square(diff_f))\n",
        "\n",
        "        fitted_pdf = model(0*tf.ones_like(x_initial))\n",
        "\n",
        "\n",
        "    # average L2 error for initial distribution\n",
        "        L3 = tf.reduce_mean(tf.square(fitted_pdf))\n",
        "\n",
        "        return L1, L3\n",
        "\n",
        "#%% Set up network\n",
        "\n",
        "# initialize DGM model (last input: space dimension = 1)\n"
      ],
      "execution_count": null,
      "outputs": []
    },
    {
      "cell_type": "code",
      "metadata": {
        "id": "pbl2MpNRD2Cz",
        "colab": {
          "base_uri": "https://localhost:8080/"
        },
        "outputId": "69f00561-4c3b-4843-b6bf-9922cd85c7d6"
      },
      "source": [
        "model = DGMNet(nodes_per_layer, num_layers, 1)\n",
        "\n",
        "# tensor placeholders (_tnsr suffix indicates tensors)\n",
        "# inputs (time, space domain interior, space domain at initial time)\n",
        "x_interior_tnsr = tf.placeholder(tf.float32, [None,1])\n",
        "x_initial_tnsr = tf.placeholder(tf.float32, [None,1])\n",
        "\n",
        "# loss\n",
        "L1_tnsr, L3_tnsr = loss(model,  x_interior_tnsr, x_initial_tnsr)\n",
        "loss_tnsr = L1_tnsr + L3_tnsr\n",
        "\n",
        "V = model(x_interior_tnsr)\n",
        "\n",
        "# set optimizer\n",
        "optimizer = tf.train.AdamOptimizer(learning_rate=learning_rate).minimize(loss_tnsr)\n",
        "\n",
        "# initialize variables\n",
        "init_op = tf.global_variables_initializer()\n",
        "\n",
        "# open session\n",
        "sess = tf.Session()\n",
        "sess.run(init_op)\n",
        "\n",
        "#%% Train network\n",
        "# for each sampling stage\n",
        "for i in range(sampling_stages):\n",
        "\n",
        "    # sample uniformly from the required regions\n",
        "    x_interior, x_initial = sampler(nSim_x_interior, nSim_x_initial)\n",
        "\n",
        "    # for a given sample, take the required number of SGD steps\n",
        "    for j in range(steps_per_sample):\n",
        "        loss,L1,L3,_ = sess.run([loss_tnsr, L1_tnsr, L3_tnsr, optimizer],\n",
        "                                feed_dict = {x_interior_tnsr:x_interior, x_initial_tnsr:x_initial})\n",
        "\n",
        "    #print(loss, L1, L3, i)\n",
        "    if (i + 1) % 10 == 0:\n",
        "\n",
        "       print(\"Epoch {:4d} has loss {:6.8f} where L1 is {:9f} L3 is {:9f}\".format(i,loss,L1,L3))"
      ],
      "execution_count": null,
      "outputs": [
        {
          "output_type": "stream",
          "name": "stdout",
          "text": [
            "WARNING:tensorflow:Entity <bound method DGMNet.call of <__main__.DGMNet object at 0x7fee426cb6d0>> could not be transformed and will be executed as-is. Please report this to the AutoGraph team. When filing the bug, set the verbosity to 10 (on Linux, `export AUTOGRAPH_VERBOSITY=10`) and attach the full output. Cause: module 'gast' has no attribute 'Index'\n",
            "WARNING: Entity <bound method DGMNet.call of <__main__.DGMNet object at 0x7fee426cb6d0>> could not be transformed and will be executed as-is. Please report this to the AutoGraph team. When filing the bug, set the verbosity to 10 (on Linux, `export AUTOGRAPH_VERBOSITY=10`) and attach the full output. Cause: module 'gast' has no attribute 'Index'\n",
            "WARNING:tensorflow:Entity <bound method DGMNet.call of <__main__.DGMNet object at 0x7fee426cb6d0>> could not be transformed and will be executed as-is. Please report this to the AutoGraph team. When filing the bug, set the verbosity to 10 (on Linux, `export AUTOGRAPH_VERBOSITY=10`) and attach the full output. Cause: module 'gast' has no attribute 'Index'\n",
            "WARNING: Entity <bound method DGMNet.call of <__main__.DGMNet object at 0x7fee426cb6d0>> could not be transformed and will be executed as-is. Please report this to the AutoGraph team. When filing the bug, set the verbosity to 10 (on Linux, `export AUTOGRAPH_VERBOSITY=10`) and attach the full output. Cause: module 'gast' has no attribute 'Index'\n",
            "WARNING:tensorflow:Entity <bound method DGMNet.call of <__main__.DGMNet object at 0x7fee426cb6d0>> could not be transformed and will be executed as-is. Please report this to the AutoGraph team. When filing the bug, set the verbosity to 10 (on Linux, `export AUTOGRAPH_VERBOSITY=10`) and attach the full output. Cause: module 'gast' has no attribute 'Index'\n",
            "WARNING: Entity <bound method DGMNet.call of <__main__.DGMNet object at 0x7fee426cb6d0>> could not be transformed and will be executed as-is. Please report this to the AutoGraph team. When filing the bug, set the verbosity to 10 (on Linux, `export AUTOGRAPH_VERBOSITY=10`) and attach the full output. Cause: module 'gast' has no attribute 'Index'\n",
            "Epoch    9 has loss 0.00002772 where L1 is  0.000026 L3 is  0.000002\n",
            "Epoch   19 has loss 0.00001520 where L1 is  0.000015 L3 is  0.000000\n",
            "Epoch   29 has loss 0.00000959 where L1 is  0.000010 L3 is  0.000000\n",
            "Epoch   39 has loss 0.00000637 where L1 is  0.000006 L3 is  0.000000\n",
            "Epoch   49 has loss 0.00000471 where L1 is  0.000005 L3 is  0.000000\n",
            "Epoch   59 has loss 0.00000525 where L1 is  0.000005 L3 is  0.000000\n",
            "Epoch   69 has loss 0.00000240 where L1 is  0.000002 L3 is  0.000000\n",
            "Epoch   79 has loss 0.00000252 where L1 is  0.000003 L3 is  0.000000\n",
            "Epoch   89 has loss 0.00000142 where L1 is  0.000001 L3 is  0.000000\n",
            "Epoch   99 has loss 0.00000103 where L1 is  0.000001 L3 is  0.000000\n"
          ]
        }
      ]
    },
    {
      "cell_type": "code",
      "metadata": {
        "colab": {
          "base_uri": "https://localhost:8080/",
          "height": 282
        },
        "id": "7Bdg-RF9IAz_",
        "outputId": "13bc7853-5157-4b67-ce56-05c17e849bef"
      },
      "source": [
        "n_plot = 100\n",
        "x_plot = np.linspace(Xlow, Xhigh, n_plot)\n",
        "\n",
        "# compute normalized density at all x values to plot and current t value\n",
        "fitted_Value = sess.run([V], feed_dict= { x_interior_tnsr:x_plot.reshape(-1,1)})\n",
        "\n",
        "# plot histogram of simulated process values and overlay estimated density\n",
        "plt.plot(x_plot, np.exp(-x_plot/5)*np.sin(x_plot), color = 'b', label='Actual', linewidth = 3, linestyle=':')\n",
        "plt.plot(x_plot, fitted_Value[0], color = 'r', label='DGM estimate')\n",
        "plt.legend(loc='upper left', prop={'size': 10})"
      ],
      "execution_count": null,
      "outputs": [
        {
          "output_type": "execute_result",
          "data": {
            "text/plain": [
              "<matplotlib.legend.Legend at 0x7fee415af9d0>"
            ]
          },
          "metadata": {},
          "execution_count": 17
        },
        {
          "output_type": "display_data",
          "data": {
            "image/png": "[encoded data removed]",
            "text/plain": [
              "<Figure size 432x288 with 1 Axes>"
            ]
          },
          "metadata": {
            "needs_background": "light"
          }
        }
      ]
    },
    {
      "cell_type": "code",
      "metadata": {
        "colab": {
          "base_uri": "https://localhost:8080/"
        },
        "id": "h7Bf7O_R7R-8",
        "outputId": "17ab909b-a209-40fd-c1f3-914543bee16b"
      },
      "source": [
        "fitted_Value[0].shape"
      ],
      "execution_count": null,
      "outputs": [
        {
          "output_type": "execute_result",
          "data": {
            "text/plain": [
              "(100, 1)"
            ]
          },
          "metadata": {},
          "execution_count": 18
        }
      ]
    },
    {
      "cell_type": "code",
      "metadata": {
        "id": "Oo4HJkEy8rew"
      },
      "source": [
        "x_interior = np.random.uniform(low=Xlow, high=Xhigh, size=[nSim_x_interior, 1])"
      ],
      "execution_count": null,
      "outputs": []
    },
    {
      "cell_type": "code",
      "metadata": {
        "colab": {
          "base_uri": "https://localhost:8080/"
        },
        "id": "FqNs1CTmSrh2",
        "outputId": "d4d00de5-664e-484a-ac34-ae3f1aa1dc09"
      },
      "source": [
        "x_interior.shape"
      ],
      "execution_count": null,
      "outputs": [
        {
          "output_type": "execute_result",
          "data": {
            "text/plain": [
              "(50, 1)"
            ]
          },
          "metadata": {},
          "execution_count": 20
        }
      ]
    },
    {
      "cell_type": "code",
      "metadata": {
        "id": "RVNLgZrSSvYs"
      },
      "source": [],
      "execution_count": null,
      "outputs": []
    }
  ]
}